{
 "cells": [
  {
   "cell_type": "markdown",
   "metadata": {},
   "source": [
    "# Adult income Dataset"
   ]
  },
  {
   "cell_type": "markdown",
   "metadata": {},
   "source": [
    "An individual’s annual income results from various factors. Intuitively, it is influenced by the individual’s education level, age, gender, occupation, and etc.\n",
    "\n",
    "Fields The dataset contains 16 columns Target filed: Income -- The income is divide into two classes: <=50K and >50K \n",
    "Number of attributes: 14 -- These are the demographics and other features to describe a person\n",
    "\n",
    "We can explore the possibility in predicting income level based on the individual’s personal information."
   ]
  },
  {
   "cell_type": "code",
   "execution_count": 3,
   "metadata": {},
   "outputs": [],
   "source": [
    "import pandas as pd\n",
    "import numpy as np\n",
    "import matplotlib.pyplot as plt\n",
    "from sklearn.linear_model import LogisticRegression\n",
    "from sklearn.tree import DecisionTreeClassifier\n",
    "from sklearn.model_selection import train_test_split, cross_val_score, KFold\n",
    "from sklearn.metrics import accuracy_score, confusion_matrix\n",
    "from sklearn.preprocessing import LabelEncoder\n",
    "from sklearn.decomposition import PCA\n",
    "import math\n",
    "from collections import Counter, defaultdict\n",
    "from functools import partial\n"
   ]
  },
  {
   "cell_type": "code",
   "execution_count": 29,
   "metadata": {},
   "outputs": [
    {
     "name": "stdout",
     "output_type": "stream",
     "text": [
      "   age         workclass  fnlwgt     education  educational-num  \\\n",
      "0  age         workclass  fnlwgt     education  educational-num   \n",
      "1   25           Private  226802          11th                7   \n",
      "2   38           Private   89814       HS-grad                9   \n",
      "3   28         Local-gov  336951    Assoc-acdm               12   \n",
      "4   44           Private  160323  Some-college               10   \n",
      "5   18                 ?  103497  Some-college               10   \n",
      "6   34           Private  198693          10th                6   \n",
      "7   29                 ?  227026       HS-grad                9   \n",
      "8   63  Self-emp-not-inc  104626   Prof-school               15   \n",
      "9   24           Private  369667  Some-college               10   \n",
      "\n",
      "       marital-status         occupation   relationship   race  gender  \\\n",
      "0      marital-status         occupation   relationship   race  gender   \n",
      "1       Never-married  Machine-op-inspct      Own-child  Black    Male   \n",
      "2  Married-civ-spouse    Farming-fishing        Husband  White    Male   \n",
      "3  Married-civ-spouse    Protective-serv        Husband  White    Male   \n",
      "4  Married-civ-spouse  Machine-op-inspct        Husband  Black    Male   \n",
      "5       Never-married                  ?      Own-child  White  Female   \n",
      "6       Never-married      Other-service  Not-in-family  White    Male   \n",
      "7       Never-married                  ?      Unmarried  Black    Male   \n",
      "8  Married-civ-spouse     Prof-specialty        Husband  White    Male   \n",
      "9       Never-married      Other-service      Unmarried  White  Female   \n",
      "\n",
      "   capital-gain  capital-loss  hours-per-week  native-country  income  \n",
      "0  capital-gain  capital-loss  hours-per-week  native-country  income  \n",
      "1             0             0              40   United-States   <=50K  \n",
      "2             0             0              50   United-States   <=50K  \n",
      "3             0             0              40   United-States    >50K  \n",
      "4          7688             0              40   United-States    >50K  \n",
      "5             0             0              30   United-States   <=50K  \n",
      "6             0             0              30   United-States   <=50K  \n",
      "7             0             0              40   United-States   <=50K  \n",
      "8          3103             0              32   United-States    >50K  \n",
      "9             0             0              40   United-States   <=50K  \n"
     ]
    },
    {
     "data": {
      "image/png": "[encoded data removed]",
      "text/plain": [
       "<Figure size 432x288 with 4 Axes>"
      ]
     },
     "metadata": {
      "needs_background": "light"
     },
     "output_type": "display_data"
    }
   ],
   "source": [
    "df = pd.read_csv('adult.csv', names=['age', 'workclass', 'fnlwgt', 'education', 'educational-num', 'marital-status',\n",
    "                 'occupation', 'relationship', 'race', 'gender', 'capital-gain','capital-loss', 'hours-per-week',\n",
    "                 'native-country', 'income'])\n",
    "print(df.head(10))\n",
    "fig = plt.figure()\n",
    "ax1 = fig.add_subplot(131)\n",
    "ax2 = fig.add_subplot(132)\n",
    "ax3 = fig.add_subplot(133)\n",
    "ax4 = fig.add_subplot(231)\n",
    "\n",
    "Y = df['income']\n",
    "label = LabelEncoder()\n",
    "Y = label.fit_transform(Y)\n",
    "\n",
    "ax1.scatter((df['age'])[:5],(df['income'])[:5], alpha=0.2, \n",
    "            c=Y[:5], marker='o', linewidth=5)\n",
    "ax2.plot(df['relationship'], df['income'], color='b', marker='o', linewidth=5)\n",
    "ax3.plot(df['native-country'], df['income'], color='r', marker='o', linewidth=5)\n",
    "\n",
    "\n",
    "plt.show()\n",
    "\n",
    "\n",
    "\n",
    "\n",
    "\n"
   ]
  },
  {
   "cell_type": "markdown",
   "metadata": {},
   "source": [
    "# Preprocessing data"
   ]
  },
  {
   "cell_type": "code",
   "execution_count": 5,
   "metadata": {
    "collapsed": true
   },
   "outputs": [
    {
     "name": "stdout",
     "output_type": "stream",
     "text": [
      "(48843, 7)\n",
      "Original Features:  ['age', 'workclass', 'education', 'occupation', 'race', 'gender', 'income']\n",
      "Features after One-Hot Encoding: \n",
      " ['age_17', 'age_18', 'age_19', 'age_20', 'age_21', 'age_22', 'age_23', 'age_24', 'age_25', 'age_26', 'age_27', 'age_28', 'age_29', 'age_30', 'age_31', 'age_32', 'age_33', 'age_34', 'age_35', 'age_36', 'age_37', 'age_38', 'age_39', 'age_40', 'age_41', 'age_42', 'age_43', 'age_44', 'age_45', 'age_46', 'age_47', 'age_48', 'age_49', 'age_50', 'age_51', 'age_52', 'age_53', 'age_54', 'age_55', 'age_56', 'age_57', 'age_58', 'age_59', 'age_60', 'age_61', 'age_62', 'age_63', 'age_64', 'age_65', 'age_66', 'age_67', 'age_68', 'age_69', 'age_70', 'age_71', 'age_72', 'age_73', 'age_74', 'age_75', 'age_76', 'age_77', 'age_78', 'age_79', 'age_80', 'age_81', 'age_82', 'age_83', 'age_84', 'age_85', 'age_86', 'age_87', 'age_88', 'age_89', 'age_90', 'age_age', 'workclass_?', 'workclass_Federal-gov', 'workclass_Local-gov', 'workclass_Never-worked', 'workclass_Private', 'workclass_Self-emp-inc', 'workclass_Self-emp-not-inc', 'workclass_State-gov', 'workclass_Without-pay', 'workclass_workclass', 'education_10th', 'education_11th', 'education_12th', 'education_1st-4th', 'education_5th-6th', 'education_7th-8th', 'education_9th', 'education_Assoc-acdm', 'education_Assoc-voc', 'education_Bachelors', 'education_Doctorate', 'education_HS-grad', 'education_Masters', 'education_Preschool', 'education_Prof-school', 'education_Some-college', 'education_education', 'occupation_?', 'occupation_Adm-clerical', 'occupation_Armed-Forces', 'occupation_Craft-repair', 'occupation_Exec-managerial', 'occupation_Farming-fishing', 'occupation_Handlers-cleaners', 'occupation_Machine-op-inspct', 'occupation_Other-service', 'occupation_Priv-house-serv', 'occupation_Prof-specialty', 'occupation_Protective-serv', 'occupation_Sales', 'occupation_Tech-support', 'occupation_Transport-moving', 'occupation_occupation', 'race_Amer-Indian-Eskimo', 'race_Asian-Pac-Islander', 'race_Black', 'race_Other', 'race_White', 'race_race', 'gender_Female', 'gender_Male', 'gender_gender', 'income_<=50K', 'income_>50K', 'income_income']\n",
      "       age_17  age_18  age_19  age_20  age_21  age_22  age_23  age_24  age_25  \\\n",
      "0           0       0       0       0       0       0       0       0       0   \n",
      "1           0       0       0       0       0       0       0       0       1   \n",
      "2           0       0       0       0       0       0       0       0       0   \n",
      "3           0       0       0       0       0       0       0       0       0   \n",
      "4           0       0       0       0       0       0       0       0       0   \n",
      "5           0       1       0       0       0       0       0       0       0   \n",
      "6           0       0       0       0       0       0       0       0       0   \n",
      "7           0       0       0       0       0       0       0       0       0   \n",
      "8           0       0       0       0       0       0       0       0       0   \n",
      "9           0       0       0       0       0       0       0       1       0   \n",
      "10          0       0       0       0       0       0       0       0       0   \n",
      "11          0       0       0       0       0       0       0       0       0   \n",
      "12          0       0       0       0       0       0       0       0       0   \n",
      "13          0       0       0       0       0       0       0       0       0   \n",
      "14          0       0       0       0       0       0       0       0       0   \n",
      "15          0       0       0       0       0       0       0       0       0   \n",
      "16          0       0       0       0       0       0       0       0       0   \n",
      "17          0       0       0       1       0       0       0       0       0   \n",
      "18          0       0       0       0       0       0       0       0       0   \n",
      "19          0       0       0       0       0       0       0       0       0   \n",
      "20          0       0       0       0       0       0       0       0       0   \n",
      "21          0       0       0       0       0       0       0       0       0   \n",
      "22          0       0       0       0       0       0       0       0       0   \n",
      "23          0       0       0       0       0       0       0       0       0   \n",
      "24          0       0       0       0       0       0       0       0       1   \n",
      "25          0       0       0       0       0       0       0       0       1   \n",
      "26          0       0       0       0       0       0       0       0       0   \n",
      "27          0       0       0       0       0       1       0       0       0   \n",
      "28          0       0       0       0       0       0       1       0       0   \n",
      "29          0       0       0       0       0       0       0       0       0   \n",
      "...       ...     ...     ...     ...     ...     ...     ...     ...     ...   \n",
      "48813       0       0       0       0       0       0       0       0       0   \n",
      "48814       0       0       0       0       0       0       0       0       0   \n",
      "48815       0       0       0       0       0       0       0       0       0   \n",
      "48816       0       0       0       0       0       0       0       0       0   \n",
      "48817       0       0       0       0       0       1       0       0       0   \n",
      "48818       0       0       0       0       0       0       0       0       0   \n",
      "48819       0       0       0       0       0       0       0       0       0   \n",
      "48820       0       0       0       0       0       0       0       0       0   \n",
      "48821       0       0       0       0       0       0       0       0       0   \n",
      "48822       0       0       0       0       0       0       0       0       0   \n",
      "48823       0       0       0       0       0       0       0       0       0   \n",
      "48824       0       0       0       0       0       0       0       0       0   \n",
      "48825       0       0       0       0       0       0       0       0       0   \n",
      "48826       0       0       0       0       0       0       0       0       0   \n",
      "48827       0       0       0       0       0       0       0       0       0   \n",
      "48828       0       0       0       0       0       0       0       0       0   \n",
      "48829       0       0       0       0       0       0       0       0       0   \n",
      "48830       0       0       0       0       0       0       0       0       0   \n",
      "48831       0       0       0       0       0       0       0       0       0   \n",
      "48832       0       0       0       0       0       0       0       0       0   \n",
      "48833       0       0       0       0       0       0       0       0       0   \n",
      "48834       0       0       0       0       0       0       0       0       0   \n",
      "48835       0       0       0       0       0       0       0       0       0   \n",
      "48836       0       0       0       0       0       0       0       0       0   \n",
      "48837       0       0       0       0       0       1       0       0       0   \n",
      "48838       0       0       0       0       0       0       0       0       0   \n",
      "48839       0       0       0       0       0       0       0       0       0   \n",
      "48840       0       0       0       0       0       0       0       0       0   \n",
      "48841       0       0       0       0       0       1       0       0       0   \n",
      "48842       0       0       0       0       0       0       0       0       0   \n",
      "\n",
      "       age_26      ...        race_Black  race_Other  race_White  race_race  \\\n",
      "0           0      ...                 0           0           0          1   \n",
      "1           0      ...                 1           0           0          0   \n",
      "2           0      ...                 0           0           1          0   \n",
      "3           0      ...                 0           0           1          0   \n",
      "4           0      ...                 1           0           0          0   \n",
      "5           0      ...                 0           0           1          0   \n",
      "6           0      ...                 0           0           1          0   \n",
      "7           0      ...                 1           0           0          0   \n",
      "8           0      ...                 0           0           1          0   \n",
      "9           0      ...                 0           0           1          0   \n",
      "10          0      ...                 0           0           1          0   \n",
      "11          0      ...                 0           0           1          0   \n",
      "12          0      ...                 0           0           1          0   \n",
      "13          1      ...                 0           0           1          0   \n",
      "14          0      ...                 0           0           1          0   \n",
      "15          0      ...                 0           0           1          0   \n",
      "16          0      ...                 0           0           1          0   \n",
      "17          0      ...                 0           0           1          0   \n",
      "18          0      ...                 0           0           1          0   \n",
      "19          0      ...                 0           0           1          0   \n",
      "20          0      ...                 0           0           0          0   \n",
      "21          0      ...                 0           0           1          0   \n",
      "22          0      ...                 1           0           0          0   \n",
      "23          0      ...                 0           0           1          0   \n",
      "24          0      ...                 0           0           1          0   \n",
      "25          0      ...                 0           0           1          0   \n",
      "26          0      ...                 0           0           1          0   \n",
      "27          0      ...                 0           0           1          0   \n",
      "28          0      ...                 1           0           0          0   \n",
      "29          0      ...                 0           0           1          0   \n",
      "...       ...      ...               ...         ...         ...        ...   \n",
      "48813       0      ...                 0           0           0          0   \n",
      "48814       0      ...                 0           0           1          0   \n",
      "48815       0      ...                 0           0           0          0   \n",
      "48816       0      ...                 0           0           1          0   \n",
      "48817       0      ...                 1           0           0          0   \n",
      "48818       0      ...                 0           0           1          0   \n",
      "48819       0      ...                 1           0           0          0   \n",
      "48820       0      ...                 1           0           0          0   \n",
      "48821       0      ...                 0           0           1          0   \n",
      "48822       0      ...                 0           0           1          0   \n",
      "48823       0      ...                 1           0           0          0   \n",
      "48824       0      ...                 0           0           1          0   \n",
      "48825       0      ...                 0           0           1          0   \n",
      "48826       0      ...                 0           1           0          0   \n",
      "48827       0      ...                 0           0           1          0   \n",
      "48828       0      ...                 0           0           1          0   \n",
      "48829       0      ...                 0           0           1          0   \n",
      "48830       0      ...                 0           0           1          0   \n",
      "48831       0      ...                 0           0           1          0   \n",
      "48832       0      ...                 0           0           1          0   \n",
      "48833       0      ...                 0           0           0          0   \n",
      "48834       0      ...                 0           0           1          0   \n",
      "48835       0      ...                 0           0           0          0   \n",
      "48836       0      ...                 0           0           1          0   \n",
      "48837       0      ...                 0           0           1          0   \n",
      "48838       0      ...                 0           0           1          0   \n",
      "48839       0      ...                 0           0           1          0   \n",
      "48840       0      ...                 0           0           1          0   \n",
      "48841       0      ...                 0           0           1          0   \n",
      "48842       0      ...                 0           0           1          0   \n",
      "\n",
      "       gender_Female  gender_Male  gender_gender  income_<=50K  income_>50K  \\\n",
      "0                  0            0              1             0            0   \n",
      "1                  0            1              0             1            0   \n",
      "2                  0            1              0             1            0   \n",
      "3                  0            1              0             0            1   \n",
      "4                  0            1              0             0            1   \n",
      "5                  1            0              0             1            0   \n",
      "6                  0            1              0             1            0   \n",
      "7                  0            1              0             1            0   \n",
      "8                  0            1              0             0            1   \n",
      "9                  1            0              0             1            0   \n",
      "10                 0            1              0             1            0   \n",
      "11                 0            1              0             0            1   \n",
      "12                 0            1              0             1            0   \n",
      "13                 1            0              0             1            0   \n",
      "14                 0            1              0             1            0   \n",
      "15                 0            1              0             0            1   \n",
      "16                 0            1              0             0            1   \n",
      "17                 0            1              0             1            0   \n",
      "18                 1            0              0             1            0   \n",
      "19                 1            0              0             1            0   \n",
      "20                 0            1              0             0            1   \n",
      "21                 0            1              0             0            1   \n",
      "22                 1            0              0             1            0   \n",
      "23                 1            0              0             1            0   \n",
      "24                 0            1              0             1            0   \n",
      "25                 0            1              0             1            0   \n",
      "26                 0            1              0             0            1   \n",
      "27                 0            1              0             1            0   \n",
      "28                 0            1              0             1            0   \n",
      "29                 0            1              0             1            0   \n",
      "...              ...          ...            ...           ...          ...   \n",
      "48813              1            0              0             1            0   \n",
      "48814              0            1              0             0            1   \n",
      "48815              0            1              0             0            1   \n",
      "48816              1            0              0             1            0   \n",
      "48817              0            1              0             1            0   \n",
      "48818              1            0              0             0            1   \n",
      "48819              0            1              0             1            0   \n",
      "48820              1            0              0             0            1   \n",
      "48821              0            1              0             0            1   \n",
      "48822              1            0              0             1            0   \n",
      "48823              1            0              0             1            0   \n",
      "48824              0            1              0             1            0   \n",
      "48825              1            0              0             1            0   \n",
      "48826              1            0              0             1            0   \n",
      "48827              1            0              0             0            1   \n",
      "48828              1            0              0             1            0   \n",
      "48829              0            1              0             1            0   \n",
      "48830              0            1              0             1            0   \n",
      "48831              1            0              0             1            0   \n",
      "48832              0            1              0             1            0   \n",
      "48833              0            1              0             1            0   \n",
      "48834              0            1              0             1            0   \n",
      "48835              0            1              0             1            0   \n",
      "48836              0            1              0             0            1   \n",
      "48837              0            1              0             1            0   \n",
      "48838              1            0              0             1            0   \n",
      "48839              0            1              0             0            1   \n",
      "48840              1            0              0             1            0   \n",
      "48841              0            1              0             1            0   \n",
      "48842              1            0              0             0            1   \n",
      "\n",
      "       income_income  \n",
      "0                  1  \n",
      "1                  0  \n",
      "2                  0  \n",
      "3                  0  \n",
      "4                  0  \n",
      "5                  0  \n",
      "6                  0  \n",
      "7                  0  \n",
      "8                  0  \n",
      "9                  0  \n",
      "10                 0  \n",
      "11                 0  \n",
      "12                 0  \n",
      "13                 0  \n",
      "14                 0  \n",
      "15                 0  \n",
      "16                 0  \n",
      "17                 0  \n",
      "18                 0  \n",
      "19                 0  \n",
      "20                 0  \n",
      "21                 0  \n",
      "22                 0  \n",
      "23                 0  \n",
      "24                 0  \n",
      "25                 0  \n",
      "26                 0  \n",
      "27                 0  \n",
      "28                 0  \n",
      "29                 0  \n",
      "...              ...  \n",
      "48813              0  \n",
      "48814              0  \n",
      "48815              0  \n",
      "48816              0  \n",
      "48817              0  \n",
      "48818              0  \n",
      "48819              0  \n",
      "48820              0  \n",
      "48821              0  \n",
      "48822              0  \n",
      "48823              0  \n",
      "48824              0  \n",
      "48825              0  \n",
      "48826              0  \n",
      "48827              0  \n",
      "48828              0  \n",
      "48829              0  \n",
      "48830              0  \n",
      "48831              0  \n",
      "48832              0  \n",
      "48833              0  \n",
      "48834              0  \n",
      "48835              0  \n",
      "48836              0  \n",
      "48837              0  \n",
      "48838              0  \n",
      "48839              0  \n",
      "48840              0  \n",
      "48841              0  \n",
      "48842              0  \n",
      "\n",
      "[48843 rows x 130 columns]\n"
     ]
    }
   ],
   "source": [
    "#print(df.shape)\n",
    "df.dropna(0, inplace=True)\n",
    "print(df.shape)\n",
    "df.head()\n",
    "df = df[['age', 'workclass', 'education', 'occupation', 'race', 'gender', 'income']]\n",
    "\n",
    "print('Original Features: ', list(df.columns))\n",
    "data_dummies = pd.get_dummies(df)\n",
    "print('Features after One-Hot Encoding: \\n', list(data_dummies.columns))\n",
    "print(data_dummies)\n"
   ]
  },
  {
   "cell_type": "code",
   "execution_count": 6,
   "metadata": {},
   "outputs": [
    {
     "name": "stdout",
     "output_type": "stream",
     "text": [
      "0    0\n",
      "1    0\n",
      "2    0\n",
      "3    1\n",
      "4    1\n",
      "Name: income_>50K, dtype: uint8\n",
      "[[0 0 0 ... 0 0 0]\n",
      " [0 0 0 ... 0 0 0]\n",
      " [0 0 0 ... 0 0 0]\n",
      " ...\n",
      " [0 0 0 ... 0 0 0]\n",
      " [0 0 0 ... 0 0 0]\n",
      " [0 0 0 ... 0 0 0]]\n"
     ]
    }
   ],
   "source": [
    "features = data_dummies.loc[:, 'age_17':'occupation_Transport-moving']\n",
    "X = features.values\n",
    "y = data_dummies['income_>50K']\n",
    "print(y.head())\n",
    "print(X)"
   ]
  },
  {
   "cell_type": "markdown",
   "metadata": {},
   "source": [
    "# Employing models"
   ]
  },
  {
   "cell_type": "code",
   "execution_count": 7,
   "metadata": {},
   "outputs": [
    {
     "name": "stdout",
     "output_type": "stream",
     "text": [
      "Accuracy: 0.7998771624526564\n",
      "Precision: 0.6374918354016982\n",
      "Recall: 0.4107744107744108\n"
     ]
    }
   ],
   "source": [
    "X_train, X_test, y_train, y_test = train_test_split(X, y, test_size=0.2, random_state=5)\n",
    "\n",
    "logreg = LogisticRegression(random_state=3)\n",
    "logreg.fit(X_train, y_train)\n",
    "y_pred = logreg.predict(X_test)\n",
    "\n",
    "conf_matrix = confusion_matrix(y_test, y_pred)\n",
    "TN = conf_matrix[0][0]\n",
    "FP = conf_matrix[0][1]\n",
    "FN = conf_matrix[1][0]\n",
    "TP = conf_matrix[1][1]\n",
    "print('Accuracy: {}'.format((TN+TP)/(TN+TP+FN+FP)))\n",
    "print('Precision: {}'.format(TP/(TP + FP)))\n",
    "print('Recall: {}'.format(TP/(TP+FN)))\n",
    "\n",
    "\n"
   ]
  },
  {
   "cell_type": "code",
   "execution_count": 8,
   "metadata": {},
   "outputs": [
    {
     "name": "stdout",
     "output_type": "stream",
     "text": [
      "Accuracy: 0.7904596171563107\n",
      "Precision: 0.6196363636363637\n",
      "Recall: 0.35858585858585856\n"
     ]
    }
   ],
   "source": [
    "clf = DecisionTreeClassifier(criterion='entropy', max_depth=10)\n",
    "clf.fit(X_train, y_train)\n",
    "y_pred = clf.predict(X_test)\n",
    "\n",
    "conf_matrix = confusion_matrix(y_test, y_pred)\n",
    "TN = conf_matrix[0][0]\n",
    "FP = conf_matrix[0][1]\n",
    "FN = conf_matrix[1][0]\n",
    "TP = conf_matrix[1][1]\n",
    "print('Accuracy: {}'.format((TN+TP)/(TN+TP+FN+FP)))\n",
    "print('Precision: {}'.format(TP/(TP + FP)))\n",
    "print('Recall: {}'.format(TP/(TP+FN)))"
   ]
  },
  {
   "cell_type": "markdown",
   "metadata": {},
   "source": [
    "# Building my Own Decision Tree Classifier"
   ]
  },
  {
   "cell_type": "markdown",
   "metadata": {},
   "source": [
    "Decision Trees can handle both categorical and numerical data"
   ]
  },
  {
   "cell_type": "code",
   "execution_count": 9,
   "metadata": {},
   "outputs": [],
   "source": [
    "df = df[['age', 'workclass', 'education', 'occupation', 'race', 'gender', 'income']]\n",
    "X = df[['age', 'workclass', 'education', 'occupation', 'race', 'gender']]\n",
    "y = df.income"
   ]
  },
  {
   "cell_type": "markdown",
   "metadata": {},
   "source": [
    "In decision trees, it is optimal to choose questions which give us a lot of information for what the tree should predict. Capturing this notion of \"how much information\" with entropy. "
   ]
  },
  {
   "cell_type": "markdown",
   "metadata": {},
   "source": [
    "Imagein that we have a set S of data, each member of which is labeled as belonging to one of a finite of classes, $C_{1}$,...$C_{n}$. If all the data points belong to a single class, then there is no real uncertainty, which means we'd like there to be low entropy. If the data points are evenly spread across the classes, thee is a lot of uncertainty and we'd like there to be high entropy"
   ]
  },
  {
   "cell_type": "markdown",
   "metadata": {},
   "source": [
    "In math terms, if $p_{i}$ is the proportion of data labeled as class $c_{i}$, we define the entropy as:\n",
    "H(S) = -$p_{1}$$log_{2}$$p_{1}$-...-$p_{n}$$log_{2}$$p_{n}$"
   ]
  },
  {
   "cell_type": "code",
   "execution_count": 3,
   "metadata": {},
   "outputs": [],
   "source": [
    "#Data is in the form of (input, label)\n",
    "def entropy(class_probs):\n",
    "    return sum(-p*math.log(p,2)\n",
    "              for p in class_probs\n",
    "              if p)\n",
    "def class_probs(labels):\n",
    "    total_count = len(labels)\n",
    "    return [count / total_count\n",
    "           for count in Counter(labels).values()]\n",
    "\n",
    "def data_entropy(labeled_data):\n",
    "    labels = [feature for _,feature in labeled_data]\n",
    "    class_probabilities = class_probs(labels)\n",
    "    return entropy(class_probabilities)\n",
    "\n"
   ]
  },
  {
   "cell_type": "markdown",
   "metadata": {},
   "source": [
    "If we partition our data S into subsets $S_{1}$, $S_{2}$...$S_{m}$, containing proportions $q_{1}$, $q_{2}$...$q_{m}$ of the data, then we compute the entropy of the partition as a weighted sum:\n",
    "H = $q_{1}$H($S_{1}$) + $q_{2}$H($S_{2}$)+...+$q_{m}$H($S_{m}$) "
   ]
  },
  {
   "cell_type": "code",
   "execution_count": 4,
   "metadata": {},
   "outputs": [],
   "source": [
    "def partition_entropy(subsets):\n",
    "    total_count = sum(len(subset) for subset in subsets)\n",
    "    \n",
    "    return sum(data_entropy(subset)*len(subset)/total_count\n",
    "               for subset in subsets)\n"
   ]
  },
  {
   "cell_type": "markdown",
   "metadata": {},
   "source": [
    "The tree will consist of DECISION NODES(which ask a question and direct us differently depending on the answer) and LEAF NODES(which give us a prediction). The decision tree algorithm will be the ID3 algorithm. \n",
    "If we're given some labeled data, and a list of attributes to consider branching on:\n",
    "\n",
    "\n",
    "1) If the data all have the same label, then create a leaf node that predicts that label and THEN STOP\n",
    "\n",
    "2) If the list of attributes is empty(in other words, there are no possible questions to ask), then create a leaf node that predicts the most common label and THEN STOP\n",
    "\n",
    "3) Otherwise, try partitioning the data by each of the attributes\n",
    "\n",
    "<font color=red>4) CHOOSE THE PARTITION WITH THE LOWEST PARITITION ENTROPY(i.e. divides the remaining data into subsets that are highly certain)</font>\n",
    "\n",
    "5) Add a decision node based on the chosen attribute\n",
    "\n",
    "6) Recur on each partitioned subset using the remaining attributes"
   ]
  },
  {
   "cell_type": "code",
   "execution_count": 23,
   "metadata": {},
   "outputs": [
    {
     "name": "stdout",
     "output_type": "stream",
     "text": [
      "(48843, 7)\n"
     ]
    }
   ],
   "source": [
    "def partition_by(inputs, attribute):\n",
    "    \"\"\"each input is a pair(attribute_dict, label)\n",
    "    returns a dict: attribute_value --> label\"\"\"\n",
    "    groups = defaultdict(list)\n",
    "    for input in inputs:\n",
    "        key = input[0][attribute]\n",
    "        groups[key].append(input)\n",
    "    return groups\n",
    "\n",
    "def partition_entropy_by(inputs, attribute):\n",
    "    partitions = partition_by(inputs,attribute)\n",
    "    return partition_entropy(partitions.values())\n",
    "\n",
    "def classify(tree, input):\n",
    "    if tree in [True, False]:\n",
    "        return tree\n",
    "\n",
    "    attribute, subtree_dict = tree\n",
    "    \n",
    "    subtree_key = input.get(attribute)\n",
    "    \n",
    "    if subtree_key not in subtree_dict:\n",
    "        subtree_key = None\n",
    "        \n",
    "    subtree_dict = subtree_dict[subtree_key]\n",
    "    classify(subtree_dict, input)\n",
    "    \n",
    "def build_tree_id3(inputs, split_candidates=None):\n",
    "    \n",
    "    if split_candidates is None:\n",
    "        split_candidates = inputs[0][0].keys() #all of the attributes\n",
    "    \n",
    "    #count Trues & Falses in the inputs\n",
    "    num_inputs = len(inputs)\n",
    "    #print('Checkpoint1') #Check if there is any problems in the code while the kernel is handling the program\n",
    "    num_trues = len([label for item, label in inputs if label])\n",
    "    num_falses = 1 - num_inputs\n",
    "    \n",
    "    #print('Checkpoint2')\n",
    "    if num_trues == 0: return False\n",
    "    if num_falses == 0: return True\n",
    "    \n",
    "    #print('Checkpoint3')\n",
    "    \n",
    "    if not split_candidates:\n",
    "        return num_trues >= num_falses\n",
    "    \n",
    "    #print('Checkpoint4')\n",
    "    best_attribute = min(split_candidates,\n",
    "                         key=partial(partition_entropy_by, inputs))\n",
    "    \n",
    "    partitions = partition_by(inputs, best_attribute)\n",
    "\n",
    "    new_candidates = [a for a in split_candidates\n",
    "                     if a != best_attribute]\n",
    "    subtrees = {attribute_value: build_tree_id3(subset, new_candidates)\n",
    "               for attribute_value, subset in partitions.items()}\n",
    "    subtrees[None] = num_trues > num_falses\n",
    "    \n",
    "    return (best_attribute, subtrees)\n",
    "\n",
    "\n",
    "               \n",
    "               \n",
    "df = pd.read_csv('adult.csv', names=['age', 'workclass', 'fnlwgt', 'education', 'educational-num', 'marital-status',\n",
    "                 'occupation', 'relationship', 'race', 'gender', 'capital-gain','capital-loss', 'hours-per-week',\n",
    "                 'native-country', 'income'])\n",
    "df = df[['age', 'workclass', 'education', 'occupation', 'race', 'gender', 'income']]\n",
    "print(df.shape)"
   ]
  },
  {
   "cell_type": "code",
   "execution_count": 16,
   "metadata": {
    "scrolled": false
   },
   "outputs": [],
   "source": [
    "df = pd.read_csv('adult.csv', names=['age', 'workclass', 'fnlwgt', 'education', 'educational-num', 'marital-status',\n",
    "                 'occupation', 'relationship', 'race', 'gender', 'capital-gain','capital-loss', 'hours-per-week',\n",
    "                 'native-country', 'income'])\n",
    "\n",
    "df = df[['workclass', 'education', 'occupation', 'race', 'gender', 'income']]\n",
    "# for col in df.columns:\n",
    "#     if df[col].dtype == 'object':\n",
    "\n",
    "\n",
    "def drop_na(x):\n",
    "    drop_indices = []\n",
    "    for i in range((x.shape)[0]):\n",
    "        for attribute in x.iloc[i]:\n",
    "            if attribute == '?':\n",
    "                drop_indices.append(i)\n",
    "                break\n",
    "    return drop_indices\n",
    "\n",
    "index_values = drop_na(df)\n",
    "df.drop(index_values, 0, inplace=True)\n",
    "\n",
    "X = (df[['workclass', 'education', 'occupation', 'race', 'gender']])[1:]\n",
    "y = (df.income)[1:]\n",
    "\n",
    "\n",
    "\n",
    "    \n"
   ]
  },
  {
   "cell_type": "code",
   "execution_count": 8,
   "metadata": {
    "collapsed": true
   },
   "outputs": [
    {
     "name": "stdout",
     "output_type": "stream",
     "text": [
      "(93, 5)\n",
      "[({'workclass': 'Private', 'education': 'HS-grad', 'occupation': 'Farming-fishing', 'race': 'White', 'gender': 'Male'}, False), ({'workclass': 'Local-gov', 'education': 'Assoc-acdm', 'occupation': 'Protective-serv', 'race': 'White', 'gender': 'Male'}, True), ({'workclass': 'Private', 'education': 'Some-college', 'occupation': 'Machine-op-inspct', 'race': 'Black', 'gender': 'Male'}, True), ({'workclass': 'Private', 'education': '10th', 'occupation': 'Other-service', 'race': 'White', 'gender': 'Male'}, False), ({'workclass': 'Private', 'education': 'Some-college', 'occupation': 'Other-service', 'race': 'White', 'gender': 'Female'}, False), ({'workclass': 'Private', 'education': 'HS-grad', 'occupation': 'Machine-op-inspct', 'race': 'White', 'gender': 'Male'}, True), ({'workclass': 'Federal-gov', 'education': 'Bachelors', 'occupation': 'Adm-clerical', 'race': 'White', 'gender': 'Male'}, False), ({'workclass': 'Private', 'education': 'HS-grad', 'occupation': 'Adm-clerical', 'race': 'White', 'gender': 'Female'}, False), ({'workclass': 'Private', 'education': 'HS-grad', 'occupation': 'Machine-op-inspct', 'race': 'White', 'gender': 'Male'}, True), ({'workclass': 'Private', 'education': 'Masters', 'occupation': 'Exec-managerial', 'race': 'White', 'gender': 'Male'}, True), ({'workclass': 'State-gov', 'education': 'Some-college', 'occupation': 'Other-service', 'race': 'White', 'gender': 'Male'}, False), ({'workclass': 'Private', 'education': 'HS-grad', 'occupation': 'Machine-op-inspct', 'race': 'White', 'gender': 'Female'}, False), ({'workclass': 'Private', 'education': 'Doctorate', 'occupation': 'Prof-specialty', 'race': 'Asian-Pac-Islander', 'gender': 'Male'}, True), ({'workclass': 'Private', 'education': 'Bachelors', 'occupation': 'Tech-support', 'race': 'White', 'gender': 'Male'}, True), ({'workclass': 'Private', 'education': 'Some-college', 'occupation': 'Other-service', 'race': 'Black', 'gender': 'Female'}, False), ({'workclass': 'Private', 'education': 'Bachelors', 'occupation': 'Prof-specialty', 'race': 'White', 'gender': 'Male'}, False), ({'workclass': 'Private', 'education': 'Bachelors', 'occupation': 'Prof-specialty', 'race': 'White', 'gender': 'Male'}, False), ({'workclass': 'Self-emp-not-inc', 'education': 'HS-grad', 'occupation': 'Craft-repair', 'race': 'White', 'gender': 'Male'}, True), ({'workclass': 'Private', 'education': 'HS-grad', 'occupation': 'Adm-clerical', 'race': 'White', 'gender': 'Male'}, False), ({'workclass': 'Private', 'education': 'HS-grad', 'occupation': 'Craft-repair', 'race': 'White', 'gender': 'Male'}, False), ({'workclass': 'Self-emp-not-inc', 'education': 'Some-college', 'occupation': 'Prof-specialty', 'race': 'White', 'gender': 'Male'}, False), ({'workclass': 'State-gov', 'education': 'Some-college', 'occupation': 'Exec-managerial', 'race': 'Black', 'gender': 'Male'}, True), ({'workclass': 'Self-emp-not-inc', 'education': '11th', 'occupation': 'Other-service', 'race': 'White', 'gender': 'Female'}, False), ({'workclass': 'Self-emp-not-inc', 'education': 'Bachelors', 'occupation': 'Sales', 'race': 'White', 'gender': 'Male'}, False), ({'workclass': 'Local-gov', 'education': 'Some-college', 'occupation': 'Protective-serv', 'race': 'White', 'gender': 'Male'}, False), ({'workclass': 'Private', 'education': 'HS-grad', 'occupation': 'Exec-managerial', 'race': 'White', 'gender': 'Female'}, False), ({'workclass': 'Local-gov', 'education': 'Bachelors', 'occupation': 'Prof-specialty', 'race': 'White', 'gender': 'Male'}, True), ({'workclass': 'Private', 'education': '5th-6th', 'occupation': 'Priv-house-serv', 'race': 'White', 'gender': 'Male'}, False), ({'workclass': 'Private', 'education': '10th', 'occupation': 'Machine-op-inspct', 'race': 'White', 'gender': 'Male'}, False), ({'workclass': 'Private', 'education': 'HS-grad', 'occupation': 'Craft-repair', 'race': 'White', 'gender': 'Male'}, False), ({'workclass': 'Private', 'education': 'Masters', 'occupation': 'Prof-specialty', 'race': 'White', 'gender': 'Male'}, True), ({'workclass': 'Private', 'education': 'HS-grad', 'occupation': 'Farming-fishing', 'race': 'White', 'gender': 'Male'}, False), ({'workclass': 'Private', 'education': '11th', 'occupation': 'Other-service', 'race': 'White', 'gender': 'Male'}, False), ({'workclass': 'State-gov', 'education': 'Some-college', 'occupation': 'Farming-fishing', 'race': 'White', 'gender': 'Male'}, False), ({'workclass': 'Private', 'education': 'Assoc-voc', 'occupation': 'Prof-specialty', 'race': 'White', 'gender': 'Female'}, True), ({'workclass': 'Private', 'education': '7th-8th', 'occupation': 'Craft-repair', 'race': 'White', 'gender': 'Male'}, False), ({'workclass': 'Private', 'education': 'Some-college', 'occupation': 'Transport-moving', 'race': 'White', 'gender': 'Male'}, False), ({'workclass': 'Private', 'education': '11th', 'occupation': 'Priv-house-serv', 'race': 'Black', 'gender': 'Female'}, False), ({'workclass': 'Self-emp-inc', 'education': 'HS-grad', 'occupation': 'Exec-managerial', 'race': 'White', 'gender': 'Female'}, False), ({'workclass': 'Private', 'education': 'Some-college', 'occupation': 'Other-service', 'race': 'White', 'gender': 'Male'}, False), ({'workclass': 'Private', 'education': 'HS-grad', 'occupation': 'Handlers-cleaners', 'race': 'Black', 'gender': 'Male'}, False), ({'workclass': 'Private', 'education': 'Some-college', 'occupation': 'Other-service', 'race': 'White', 'gender': 'Female'}, False), ({'workclass': 'Private', 'education': 'HS-grad', 'occupation': 'Other-service', 'race': 'White', 'gender': 'Male'}, True), ({'workclass': 'Private', 'education': '9th', 'occupation': 'Exec-managerial', 'race': 'White', 'gender': 'Male'}, False), ({'workclass': 'Private', 'education': 'Some-college', 'occupation': 'Adm-clerical', 'race': 'White', 'gender': 'Female'}, False), ({'workclass': 'Private', 'education': 'HS-grad', 'occupation': 'Craft-repair', 'race': 'White', 'gender': 'Male'}, False), ({'workclass': 'Local-gov', 'education': 'Bachelors', 'occupation': 'Exec-managerial', 'race': 'White', 'gender': 'Male'}, True), ({'workclass': 'Self-emp-inc', 'education': 'HS-grad', 'occupation': 'Exec-managerial', 'race': 'White', 'gender': 'Male'}, True), ({'workclass': 'Private', 'education': 'HS-grad', 'occupation': 'Handlers-cleaners', 'race': 'White', 'gender': 'Male'}, False), ({'workclass': 'Private', 'education': 'Bachelors', 'occupation': 'Exec-managerial', 'race': 'White', 'gender': 'Female'}, False), ({'workclass': 'Private', 'education': 'Some-college', 'occupation': 'Sales', 'race': 'White', 'gender': 'Male'}, False), ({'workclass': 'Private', 'education': 'Masters', 'occupation': 'Exec-managerial', 'race': 'White', 'gender': 'Female'}, False), ({'workclass': 'Private', 'education': 'HS-grad', 'occupation': 'Machine-op-inspct', 'race': 'White', 'gender': 'Female'}, False), ({'workclass': 'Local-gov', 'education': 'HS-grad', 'occupation': 'Adm-clerical', 'race': 'White', 'gender': 'Female'}, False), ({'workclass': 'Private', 'education': 'Bachelors', 'occupation': 'Other-service', 'race': 'White', 'gender': 'Female'}, False), ({'workclass': 'Self-emp-inc', 'education': 'Assoc-acdm', 'occupation': 'Craft-repair', 'race': 'White', 'gender': 'Male'}, True), ({'workclass': 'Private', 'education': 'Some-college', 'occupation': 'Other-service', 'race': 'White', 'gender': 'Male'}, False), ({'workclass': 'Private', 'education': 'HS-grad', 'occupation': 'Transport-moving', 'race': 'White', 'gender': 'Male'}, False), ({'workclass': 'Private', 'education': 'HS-grad', 'occupation': 'Sales', 'race': 'White', 'gender': 'Male'}, False), ({'workclass': 'Private', 'education': 'Some-college', 'occupation': 'Exec-managerial', 'race': 'White', 'gender': 'Male'}, True), ({'workclass': 'Private', 'education': 'Assoc-voc', 'occupation': 'Tech-support', 'race': 'White', 'gender': 'Male'}, False), ({'workclass': 'Private', 'education': 'HS-grad', 'occupation': 'Machine-op-inspct', 'race': 'White', 'gender': 'Male'}, False), ({'workclass': 'Private', 'education': 'Some-college', 'occupation': 'Handlers-cleaners', 'race': 'White', 'gender': 'Female'}, False), ({'workclass': 'Private', 'education': 'Some-college', 'occupation': 'Craft-repair', 'race': 'Other', 'gender': 'Male'}, False), ({'workclass': 'Private', 'education': 'HS-grad', 'occupation': 'Machine-op-inspct', 'race': 'White', 'gender': 'Male'}, False), ({'workclass': 'Self-emp-inc', 'education': 'HS-grad', 'occupation': 'Sales', 'race': 'White', 'gender': 'Male'}, False), ({'workclass': 'Private', 'education': 'HS-grad', 'occupation': 'Transport-moving', 'race': 'White', 'gender': 'Male'}, False), ({'workclass': 'Private', 'education': 'Some-college', 'occupation': 'Adm-clerical', 'race': 'White', 'gender': 'Female'}, False), ({'workclass': 'Self-emp-inc', 'education': 'Some-college', 'occupation': 'Machine-op-inspct', 'race': 'White', 'gender': 'Male'}, False), ({'workclass': 'Private', 'education': 'Bachelors', 'occupation': 'Exec-managerial', 'race': 'White', 'gender': 'Male'}, False), ({'workclass': 'Self-emp-inc', 'education': 'HS-grad', 'occupation': 'Craft-repair', 'race': 'White', 'gender': 'Male'}, True), ({'workclass': 'Self-emp-not-inc', 'education': 'Some-college', 'occupation': 'Craft-repair', 'race': 'White', 'gender': 'Male'}, False), ({'workclass': 'Private', 'education': 'HS-grad', 'occupation': 'Machine-op-inspct', 'race': 'White', 'gender': 'Female'}, False), ({'workclass': 'Federal-gov', 'education': '11th', 'occupation': 'Other-service', 'race': 'White', 'gender': 'Female'}, False), ({'workclass': 'Private', 'education': 'HS-grad', 'occupation': 'Sales', 'race': 'White', 'gender': 'Male'}, True), ({'workclass': 'Federal-gov', 'education': 'Some-college', 'occupation': 'Armed-Forces', 'race': 'White', 'gender': 'Male'}, False), ({'workclass': 'Private', 'education': 'Bachelors', 'occupation': 'Exec-managerial', 'race': 'White', 'gender': 'Female'}, False), ({'workclass': 'Federal-gov', 'education': '7th-8th', 'occupation': 'Other-service', 'race': 'Black', 'gender': 'Male'}, False), ({'workclass': 'Private', 'education': 'Masters', 'occupation': 'Prof-specialty', 'race': 'White', 'gender': 'Female'}, True), ({'workclass': 'Federal-gov', 'education': 'Bachelors', 'occupation': 'Adm-clerical', 'race': 'White', 'gender': 'Male'}, False), ({'workclass': 'Private', 'education': 'Masters', 'occupation': 'Other-service', 'race': 'Amer-Indian-Eskimo', 'gender': 'Male'}, False), ({'workclass': 'Private', 'education': 'HS-grad', 'occupation': 'Handlers-cleaners', 'race': 'White', 'gender': 'Male'}, False), ({'workclass': 'Private', 'education': 'Bachelors', 'occupation': 'Exec-managerial', 'race': 'White', 'gender': 'Female'}, False), ({'workclass': 'Private', 'education': 'HS-grad', 'occupation': 'Transport-moving', 'race': 'White', 'gender': 'Male'}, True), ({'workclass': 'Private', 'education': 'HS-grad', 'occupation': 'Adm-clerical', 'race': 'White', 'gender': 'Female'}, False)]\n"
     ]
    }
   ],
   "source": [
    "print(X.shape)\n",
    "\n",
    "def create_input(x, y):\n",
    "    inputs = []\n",
    "    \n",
    "    index_values = x.index.tolist()\n",
    "    le = LabelEncoder()\n",
    "    y = le.fit_transform(y)\n",
    "    attributes = list(x.columns)\n",
    "    state = True\n",
    "    \n",
    "    for i in index_values:\n",
    "        if i < x.shape[0]:      \n",
    "            dict_instance = {}\n",
    "            for attribute in attributes: #initialize the keys of the dictionary\n",
    "                dict_instance[str(attribute)] = None\n",
    "            for j in range((x.shape)[1]): #looping through each feature of each instance\n",
    "                attribute = attributes[j]\n",
    "                dict_instance[attribute] = list((x.iloc[i]))[j]\n",
    "            if y[i] == 0: #seeing if the target attribute is either 1 or 0\n",
    "                state = False \n",
    "            else:\n",
    "                state = True\n",
    "            inputs.append((dict_instance, state))\n",
    "\n",
    "        \n",
    "    return inputs\n",
    "\n",
    "new_input = create_input(X, y)\n",
    "print(new_input)\n",
    " \n",
    "            \n",
    "            \n",
    "        \n",
    "    \n",
    "    "
   ]
  },
  {
   "cell_type": "code",
   "execution_count": 9,
   "metadata": {
    "collapsed": true
   },
   "outputs": [
    {
     "name": "stdout",
     "output_type": "stream",
     "text": [
      "            workclass     education         occupation                race  \\\n",
      "1             Private          11th  Machine-op-inspct               Black   \n",
      "2             Private       HS-grad    Farming-fishing               White   \n",
      "3           Local-gov    Assoc-acdm    Protective-serv               White   \n",
      "4             Private  Some-college  Machine-op-inspct               Black   \n",
      "6             Private          10th      Other-service               White   \n",
      "8    Self-emp-not-inc   Prof-school     Prof-specialty               White   \n",
      "9             Private  Some-college      Other-service               White   \n",
      "10            Private       7th-8th       Craft-repair               White   \n",
      "11            Private       HS-grad  Machine-op-inspct               White   \n",
      "12        Federal-gov     Bachelors       Adm-clerical               White   \n",
      "13            Private       HS-grad       Adm-clerical               White   \n",
      "15            Private       HS-grad  Machine-op-inspct               White   \n",
      "16            Private       Masters    Exec-managerial               White   \n",
      "17          State-gov  Some-college      Other-service               White   \n",
      "18            Private       HS-grad       Adm-clerical               White   \n",
      "19            Private       HS-grad  Machine-op-inspct               White   \n",
      "20            Private     Doctorate     Prof-specialty  Asian-Pac-Islander   \n",
      "21            Private     Bachelors       Tech-support               White   \n",
      "22            Private  Some-college      Other-service               Black   \n",
      "24            Private     Bachelors     Prof-specialty               White   \n",
      "25            Private     Bachelors     Prof-specialty               White   \n",
      "26   Self-emp-not-inc       HS-grad       Craft-repair               White   \n",
      "27            Private       HS-grad       Adm-clerical               White   \n",
      "28            Private       HS-grad  Machine-op-inspct               Black   \n",
      "29            Private       HS-grad       Craft-repair               White   \n",
      "30   Self-emp-not-inc  Some-college     Prof-specialty               White   \n",
      "31          State-gov  Some-college    Exec-managerial               Black   \n",
      "32   Self-emp-not-inc          11th      Other-service               White   \n",
      "33   Self-emp-not-inc     Bachelors              Sales               White   \n",
      "34          Local-gov  Some-college    Protective-serv               White   \n",
      "..                ...           ...                ...                 ...   \n",
      "69            Private       HS-grad   Transport-moving               White   \n",
      "70            Private       HS-grad              Sales               White   \n",
      "71            Private  Some-college    Exec-managerial               White   \n",
      "72            Private     Assoc-voc       Tech-support               White   \n",
      "73            Private       HS-grad  Machine-op-inspct               White   \n",
      "74            Private  Some-college  Handlers-cleaners               White   \n",
      "75            Private  Some-college       Craft-repair               Other   \n",
      "77            Private       HS-grad  Machine-op-inspct               White   \n",
      "78       Self-emp-inc       HS-grad              Sales               White   \n",
      "79            Private       HS-grad   Transport-moving               White   \n",
      "80            Private  Some-college       Adm-clerical               White   \n",
      "81       Self-emp-inc  Some-college  Machine-op-inspct               White   \n",
      "82            Private     Bachelors    Exec-managerial               White   \n",
      "83            Private  Some-college      Other-service               White   \n",
      "84       Self-emp-inc       HS-grad       Craft-repair               White   \n",
      "85   Self-emp-not-inc  Some-college       Craft-repair               White   \n",
      "86            Private       HS-grad  Machine-op-inspct               White   \n",
      "87        Federal-gov          11th      Other-service               White   \n",
      "88            Private       HS-grad              Sales               White   \n",
      "89        Federal-gov  Some-college       Armed-Forces               White   \n",
      "91            Private     Bachelors    Exec-managerial               White   \n",
      "92        Federal-gov       7th-8th      Other-service               Black   \n",
      "93            Private       Masters     Prof-specialty               White   \n",
      "94        Federal-gov     Bachelors       Adm-clerical               White   \n",
      "95            Private       Masters      Other-service  Amer-Indian-Eskimo   \n",
      "96            Private       HS-grad  Handlers-cleaners               White   \n",
      "97            Private     Bachelors    Exec-managerial               White   \n",
      "98            Private          10th    Farming-fishing               White   \n",
      "99            Private       HS-grad   Transport-moving               White   \n",
      "100           Private       HS-grad       Adm-clerical               White   \n",
      "\n",
      "     gender  \n",
      "1      Male  \n",
      "2      Male  \n",
      "3      Male  \n",
      "4      Male  \n",
      "6      Male  \n",
      "8      Male  \n",
      "9    Female  \n",
      "10     Male  \n",
      "11     Male  \n",
      "12     Male  \n",
      "13   Female  \n",
      "15     Male  \n",
      "16     Male  \n",
      "17     Male  \n",
      "18   Female  \n",
      "19   Female  \n",
      "20     Male  \n",
      "21     Male  \n",
      "22   Female  \n",
      "24     Male  \n",
      "25     Male  \n",
      "26     Male  \n",
      "27     Male  \n",
      "28     Male  \n",
      "29     Male  \n",
      "30     Male  \n",
      "31     Male  \n",
      "32   Female  \n",
      "33     Male  \n",
      "34     Male  \n",
      "..      ...  \n",
      "69     Male  \n",
      "70     Male  \n",
      "71     Male  \n",
      "72     Male  \n",
      "73     Male  \n",
      "74   Female  \n",
      "75     Male  \n",
      "77     Male  \n",
      "78     Male  \n",
      "79     Male  \n",
      "80   Female  \n",
      "81     Male  \n",
      "82     Male  \n",
      "83     Male  \n",
      "84     Male  \n",
      "85     Male  \n",
      "86   Female  \n",
      "87   Female  \n",
      "88     Male  \n",
      "89     Male  \n",
      "91   Female  \n",
      "92     Male  \n",
      "93   Female  \n",
      "94     Male  \n",
      "95     Male  \n",
      "96     Male  \n",
      "97   Female  \n",
      "98     Male  \n",
      "99     Male  \n",
      "100  Female  \n",
      "\n",
      "[93 rows x 5 columns]\n",
      "['workclass', 'education', 'occupation', 'race', 'gender']\n",
      "workclass 0.7389452019971764\n",
      "education 0.6464657628233078\n",
      "occupation 0.6266014697510593\n",
      "race 0.7709496268550428\n",
      "gender 0.7590426763116143\n"
     ]
    }
   ],
   "source": [
    "print(X)\n",
    "print(list(X.columns))\n",
    "for key in ['workclass', 'education', 'occupation', 'race', 'gender']:\n",
    "    print(key, partition_entropy_by(new_input, key))"
   ]
  },
  {
   "cell_type": "code",
   "execution_count": 10,
   "metadata": {
    "collapsed": true
   },
   "outputs": [
    {
     "name": "stdout",
     "output_type": "stream",
     "text": [
      "('occupation', {'Farming-fishing': False, 'Protective-serv': ('education', {'Assoc-acdm': True, 'Some-college': False, None: True}), 'Machine-op-inspct': ('race', {'Black': True, 'White': ('gender', {'Male': ('education', {'HS-grad': ('workclass', {'Private': True, None: True}), '10th': False, 'Some-college': False, None: True}), 'Female': False, None: True}), None: True}), 'Other-service': ('education', {'10th': False, 'Some-college': False, '11th': False, 'HS-grad': True, 'Bachelors': False, '7th-8th': False, 'Masters': False, None: True}), 'Adm-clerical': False, 'Exec-managerial': ('gender', {'Male': ('education', {'Masters': True, 'Some-college': ('workclass', {'State-gov': True, 'Private': True, None: True}), '9th': False, 'Bachelors': ('workclass', {'Local-gov': True, 'Private': False, None: True}), 'HS-grad': True, None: True}), 'Female': False, None: True}), 'Prof-specialty': ('education', {'Doctorate': True, 'Bachelors': ('workclass', {'Private': False, 'Local-gov': True, None: True}), 'Some-college': False, 'Masters': ('workclass', {'Private': ('race', {'White': ('gender', {'Male': True, 'Female': True, None: True}), None: True}), None: True}), 'Assoc-voc': True, None: True}), 'Tech-support': ('education', {'Bachelors': True, 'Assoc-voc': False, None: True}), 'Craft-repair': ('workclass', {'Self-emp-not-inc': ('education', {'HS-grad': True, 'Some-college': False, None: True}), 'Private': False, 'Self-emp-inc': ('education', {'Assoc-acdm': True, 'HS-grad': True, None: True}), None: True}), 'Sales': ('workclass', {'Self-emp-not-inc': False, 'Private': ('education', {'Some-college': False, 'HS-grad': ('race', {'White': ('gender', {'Male': True, None: True}), None: True}), None: True}), 'Self-emp-inc': False, None: True}), 'Priv-house-serv': False, 'Transport-moving': ('education', {'Some-college': False, 'HS-grad': ('workclass', {'Private': ('race', {'White': ('gender', {'Male': True, None: True}), None: True}), None: True}), None: True}), 'Handlers-cleaners': False, 'Armed-Forces': False, None: True})\n"
     ]
    }
   ],
   "source": [
    "tree = build_tree_id3(new_input)\n",
    "print(tree)"
   ]
  },
  {
   "cell_type": "code",
   "execution_count": 24,
   "metadata": {},
   "outputs": [
    {
     "name": "stdout",
     "output_type": "stream",
     "text": [
      "Person earns less than $50K per year\n"
     ]
    }
   ],
   "source": [
    "result = classify(tree, {\"workclass\":\"Self-emp-not-inc\", \"education\":\"Bachelors\", \"occupation\": \"Farming-fishing\",\n",
    "                           \"race\": \"White\", \"gender\": \"Female\"})\n",
    "#prediction....\n",
    "if result:\n",
    "    print(\"Person earns more than $50K per year\")\n",
    "else:\n",
    "    print(\"Person earns less than $50K per year\")"
   ]
  },
  {
   "cell_type": "markdown",
   "metadata": {},
   "source": [
    "# Building ensemble models"
   ]
  },
  {
   "cell_type": "code",
   "execution_count": 20,
   "metadata": {},
   "outputs": [
    {
     "name": "stderr",
     "output_type": "stream",
     "text": [
      "/Users/duyngo/anaconda3/envs/tensorflow-sessions/lib/python3.6/site-packages/ipykernel_launcher.py:10: DeprecationWarning: \n",
      ".ix is deprecated. Please use\n",
      ".loc for label based indexing or\n",
      ".iloc for positional indexing\n",
      "\n",
      "See the documentation here:\n",
      "http://pandas.pydata.org/pandas-docs/stable/indexing.html#ix-indexer-is-deprecated\n",
      "  # Remove the CWD from sys.path while we load stuff.\n"
     ]
    },
    {
     "name": "stdout",
     "output_type": "stream",
     "text": [
      "0.7906333279414154\n"
     ]
    }
   ],
   "source": [
    "import pandas\n",
    "from sklearn import model_selection\n",
    "from sklearn.ensemble import BaggingClassifier\n",
    "from sklearn.tree import DecisionTreeClassifier\n",
    "\n",
    "\n",
    "data_dummies = pd.get_dummies(df)\n",
    "\n",
    "\n",
    "features = data_dummies.ix[:, 'workclass_Federal-gov':'gender_Female']\n",
    "X = features.values\n",
    "y = data_dummies['income_<=50K']\n",
    "\n",
    "seed = 7\n",
    "kfold = model_selection.KFold(n_splits=10, random_state=seed)\n",
    "cart = DecisionTreeClassifier()\n",
    "num_trees = 100\n",
    "model = BaggingClassifier(base_estimator=cart, n_estimators=num_trees, random_state=seed)\n",
    "results = model_selection.cross_val_score(model, X, y, cv=kfold)\n",
    "print(results.mean())\n",
    "\n",
    "\n",
    "\n",
    "\n",
    "\n",
    "\n"
   ]
  },
  {
   "cell_type": "code",
   "execution_count": 19,
   "metadata": {},
   "outputs": [
    {
     "name": "stdout",
     "output_type": "stream",
     "text": [
      "0.790937430222008\n"
     ]
    }
   ],
   "source": [
    "from sklearn.ensemble import RandomForestClassifier\n",
    "seed = 7\n",
    "num_trees = 200\n",
    "max_features = 5\n",
    "kfold = model_selection.KFold(n_splits=10, random_state=seed)\n",
    "model = RandomForestClassifier(n_estimators=num_trees, max_features=max_features)\n",
    "results = model_selection.cross_val_score(model, X, y, cv=kfold)\n",
    "print(results.mean())\n"
   ]
  },
  {
   "cell_type": "markdown",
   "metadata": {},
   "source": [
    "# Random stuff"
   ]
  },
  {
   "cell_type": "code",
   "execution_count": 26,
   "metadata": {},
   "outputs": [
    {
     "data": {
      "text/plain": [
       "<matplotlib.colorbar.Colorbar at 0x102bb2588>"
      ]
     },
     "execution_count": 26,
     "metadata": {},
     "output_type": "execute_result"
    },
    {
     "data": {
      "image/png": "[encoded data removed]",
      "text/plain": [
       "<Figure size 432x288 with 2 Axes>"
      ]
     },
     "metadata": {
      "needs_background": "light"
     },
     "output_type": "display_data"
    }
   ],
   "source": [
    "rng = np.random.RandomState(1)\n",
    "x = rng.randn(100)\n",
    "y = rng.randn(100)\n",
    "colors = rng.rand(100)\n",
    "sizes = 1000 * rng.rand(100)\n",
    "\n",
    "plt.scatter(x, y, c=colors, s=sizes, alpha=0.3,#transparency,\n",
    "           cmap='viridis')\n",
    "plt.colorbar()"
   ]
  },
  {
   "cell_type": "code",
   "execution_count": null,
   "metadata": {},
   "outputs": [],
   "source": []
  },
  {
   "cell_type": "code",
   "execution_count": null,
   "metadata": {},
   "outputs": [],
   "source": []
  },
  {
   "cell_type": "code",
   "execution_count": null,
   "metadata": {},
   "outputs": [],
   "source": []
  }
 ],
 "metadata": {
  "kernelspec": {
   "display_name": "Python 3",
   "language": "python",
   "name": "python3"
  },
  "language_info": {
   "codemirror_mode": {
    "name": "ipython",
    "version": 3
   },
   "file_extension": ".py",
   "mimetype": "text/x-python",
   "name": "python",
   "nbconvert_exporter": "python",
   "pygments_lexer": "ipython3",
   "version": "3.6.7"
  }
 },
 "nbformat": 4,
 "nbformat_minor": 2
}
